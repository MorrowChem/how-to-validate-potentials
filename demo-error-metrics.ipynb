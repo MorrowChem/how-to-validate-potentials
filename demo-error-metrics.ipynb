{
 "cells": [
  {
   "attachments": {},
   "cell_type": "markdown",
   "metadata": {},
   "source": [
    "## Setup\n",
    "\n",
    "The structural data used in this notebook was published as part of [Phys. Rev. B **95**, 094203](https://doi.org/10.1103/PhysRevB.95.094203)  \n",
    "and is available from https://www.repository.cam.ac.uk/handle/1810/262814"
   ]
  },
  {
   "cell_type": "code",
   "execution_count": 1,
   "metadata": {},
   "outputs": [],
   "source": [
    "from ase.io import read\n",
    "import numpy as np\n",
    "\n",
    "dataset = read(\"structures/labelled-gap17-test-set.extxyz\", index=\":\")\n",
    "\n",
    "dft_energy = np.array([structure.info[\"energy\"] for structure in dataset])\n",
    "gap_energy = np.array([structure.info[\"gap17_energy\"] for structure in dataset])\n",
    "atoms_per_cell = np.array([len(structure) for structure in dataset])\n",
    "\n",
    "dft_forces = np.vstack([structure.arrays[\"force\"] for structure in dataset])\n",
    "gap_forces = np.vstack([structure.arrays[\"gap17_force\"] for structure in dataset])"
   ]
  },
  {
   "attachments": {},
   "cell_type": "markdown",
   "metadata": {},
   "source": [
    "# Error Metrics for Scalar Properties\n",
    "\n",
    "The *error* when predicting a scalar metric is easy to quantify: it's the difference between the predicted value and the true value. This is termed the residual, $r_i = y_i - \\hat{y}_i$. Applying summary metrics directly to these residuals is straightforward: \n",
    "$$\\text{MAE} = \\frac{1}{N}\\sum_{i=1}^N |r_i| \\cdot w_i\n",
    "\\quad \\text{and} \\quad \n",
    "\\text{RMSE} = \\sqrt{\\frac{1}{N}\\sum_{i=1}^N r_i^2 \\cdot w_i^2}$$\n",
    "where $w_i$ is the weight of the $i$'th data point."
   ]
  },
  {
   "cell_type": "code",
   "execution_count": 2,
   "metadata": {},
   "outputs": [],
   "source": [
    "# some basic implementations of error metrics:\n",
    "\n",
    "def mae(residuals):\n",
    "    return np.mean(np.abs(residuals))\n",
    "\n",
    "def rmse(residuals):\n",
    "    return np.sqrt(np.mean(residuals**2))"
   ]
  },
  {
   "attachments": {},
   "cell_type": "markdown",
   "metadata": {},
   "source": [
    "### Per-cell Energy Errors:"
   ]
  },
  {
   "cell_type": "code",
   "execution_count": 3,
   "metadata": {},
   "outputs": [
    {
     "name": "stdout",
     "output_type": "stream",
     "text": [
      "MAE:  2.261 eV/cell\n",
      "RMSE: 3.217 eV/cell\n"
     ]
    }
   ],
   "source": [
    "per_cell_energy_residuals = dft_energy - gap_energy\n",
    "\n",
    "_mae = mae(per_cell_energy_residuals)\n",
    "_rmse = rmse(per_cell_energy_residuals)\n",
    "\n",
    "print(\"MAE: \", round(_mae, 3), \"eV/cell\")\n",
    "print(\"RMSE:\", round(_rmse, 3), \"eV/cell\")"
   ]
  },
  {
   "attachments": {},
   "cell_type": "markdown",
   "metadata": {},
   "source": [
    "### Scaled Energy Errors:\n",
    "To obtain an energy error that is independent of the number of atoms in a cell, we divide by the square root of the number of atoms in the cell:"
   ]
  },
  {
   "cell_type": "code",
   "execution_count": 4,
   "metadata": {},
   "outputs": [
    {
     "name": "stdout",
     "output_type": "stream",
     "text": [
      "MAE:  0.272 eV/atom\n",
      "RMSE: 0.377 eV/atom\n"
     ]
    }
   ],
   "source": [
    "weights = 1 / np.sqrt(atoms_per_cell)\n",
    "\n",
    "_mae = mae(per_cell_energy_residuals * weights)\n",
    "_rmse = rmse(per_cell_energy_residuals * weights)\n",
    "\n",
    "print(\"MAE: \", round(_mae, 3), \"eV/atom\")\n",
    "print(\"RMSE:\", round(_rmse, 3), \"eV/atom\")"
   ]
  },
  {
   "attachments": {},
   "cell_type": "markdown",
   "metadata": {},
   "source": [
    "# Error Metrics for Vector Properties\n",
    "\n",
    "We can extend the idea of scalar residuals into $N>1$ dimensions by defining a residual vector as $\\mathbf{r}_i = \\mathbf{y}_i - \\hat{\\mathbf{y}}_i$. Due to the vector nature of the resulting residuals, we are now presented with several ways to apply the \"usual\" summary metrics to collections of residuals."
   ]
  },
  {
   "cell_type": "code",
   "execution_count": 5,
   "metadata": {},
   "outputs": [
    {
     "data": {
      "text/plain": [
       "(28337, 3)"
      ]
     },
     "execution_count": 5,
     "metadata": {},
     "output_type": "execute_result"
    }
   ],
   "source": [
    "force_residuals = dft_forces - gap_forces\n",
    "\n",
    "# there are 28,337 atomic environments in the test set\n",
    "# and therefore we have 28,337 force residuals, each of which\n",
    "# is a 3-vector\n",
    "force_residuals.shape"
   ]
  },
  {
   "attachments": {},
   "cell_type": "markdown",
   "metadata": {},
   "source": [
    "## Error Magnitudes\n",
    "\n",
    "The simplest approach is to simply apply the scalar metrics to the magnitude (L2 norm) of the residual vector, $r_i = ||\\mathbf{r}_i||_2$. The resulting metrics are:\n",
    "\n",
    "$$\n",
    "\\text{MAE}_{\\text{magnitudes}}(\\mathbf{r}) = \\frac{1}{N}\\sum_{i=1}^N ||\\mathbf{r}_i||_2 \n",
    "$$\n",
    "\n",
    "and\n",
    "\n",
    "$$\n",
    "\\text{RMSE}_{\\text{magnitudes}}(\\mathbf{r}) = \\sqrt{\\frac{1}{N}\\sum_{i=1}^N {||\\mathbf{r}_i||_2}^2}  = \\sqrt{\\frac{1}{N}\\sum_{i=1}^N r_{i,x}^2 + r_{i,y}^2 + r_{i,z}^2}\n",
    "$$"
   ]
  },
  {
   "cell_type": "code",
   "execution_count": 6,
   "metadata": {},
   "outputs": [
    {
     "data": {
      "text/plain": [
       "(28337,)"
      ]
     },
     "execution_count": 6,
     "metadata": {},
     "output_type": "execute_result"
    }
   ],
   "source": [
    "# we can take the (L2) norm of each force residual to get\n",
    "# the euclidean magnitude of the force residual\n",
    "# we can interpret this as the distance between the DFT and GAP forces\n",
    "\n",
    "force_residuals_magnitudes = np.linalg.norm(force_residuals, axis=1)\n",
    "force_residuals_magnitudes.shape"
   ]
  },
  {
   "cell_type": "code",
   "execution_count": 7,
   "metadata": {},
   "outputs": [
    {
     "name": "stdout",
     "output_type": "stream",
     "text": [
      "MAE:  1.667 eV/Å\n",
      "RMSE: 1.892 eV/Å\n"
     ]
    }
   ],
   "source": [
    "# now that we have scalar values, we can use the normal MAE and RMSE metrics\n",
    "mag_mae = mae(force_residuals_magnitudes)\n",
    "mag_rmse = rmse(force_residuals_magnitudes)\n",
    "\n",
    "print(\"MAE: \", round(mag_mae, 3), \"eV/Å\")\n",
    "print(\"RMSE:\", round(mag_rmse, 3), \"eV/Å\")"
   ]
  },
  {
   "attachments": {},
   "cell_type": "markdown",
   "metadata": {},
   "source": [
    "## Error Vector Components\n",
    "\n",
    "An alternative approach is to apply the scalar metrics to each component of the residual vectors:\n",
    "\n",
    "$$\n",
    "\\begin{align*}\n",
    "\\text{MAE}_\\text{component-wise} &= \\text{MAE}([\\mathbf{r}_x; \\mathbf{r}_y; \\mathbf{r}_z])\\\\\n",
    "&= \\frac{1}{3N}\\sum_{i=1}^N |r_{i,x}| + |r_{i,y}| + |r_{i,z}|\\\\\n",
    "&= \\frac{1}{N}\\sum_{i=1}^N \\frac{1}{3}||\\mathbf{r}_i||_1\\\\\n",
    "\\end{align*}  \n",
    "$$  \n",
    "and\n",
    "$$\n",
    "\\begin{align*}  \n",
    "\\text{RMSE}_\\text{component-wise} &= \\text{RMSE}([\\mathbf{r}_x ; \\mathbf{r}_y; \\mathbf{r}_z])\\\\\n",
    "&= \\sqrt{\\frac{1}{3N}\\sum_{i=1}^N r_{x,i}^2 + r_{y,i}^2 + r_{z,i}^2}\\\\\n",
    "&= \\frac{1}{\\sqrt{3}}\\sqrt{\\frac{1}{N}\\sum_{i=1}^N {||\\mathbf{r}_i||_2}^2} \\equiv \\frac{1}{\\sqrt{3}} \\text{RMSE}_{\\text{magnitude}}\\\\\n",
    "\\end{align*}\n",
    "$$\n",
    "\n",
    "where we use $[a;b;...]$ to denote the concatenation of vectors.\n",
    "\n",
    "A geometric interpretation of the component-wise MAE is therefore one third of the average Manhattan distance (L1 norm) between the predicted and true vectors. \n",
    "\n",
    "The component-wise RMSE is the average Euclidean distance (L2 norm) between the predicted and true vectors."
   ]
  },
  {
   "cell_type": "code",
   "execution_count": 8,
   "metadata": {},
   "outputs": [
    {
     "data": {
      "text/plain": [
       "(85011,)"
      ]
     },
     "execution_count": 8,
     "metadata": {},
     "output_type": "execute_result"
    }
   ],
   "source": [
    "force_residuals_components = force_residuals.reshape(-1)\n",
    "force_residuals_components.shape"
   ]
  },
  {
   "cell_type": "code",
   "execution_count": 9,
   "metadata": {},
   "outputs": [
    {
     "name": "stdout",
     "output_type": "stream",
     "text": [
      "MAE:  0.833 eV/Å\n",
      "RMSE: 1.092 eV/Å\n"
     ]
    }
   ],
   "source": [
    "comp_mae = mae(force_residuals_components)\n",
    "comp_rmse = rmse(force_residuals_components)\n",
    "\n",
    "print(\"MAE: \", round(comp_mae, 3), \"eV/Å\")\n",
    "print(\"RMSE:\", round(comp_rmse, 3), \"eV/Å\")"
   ]
  },
  {
   "cell_type": "code",
   "execution_count": 10,
   "metadata": {},
   "outputs": [
    {
     "data": {
      "text/plain": [
       "True"
      ]
     },
     "execution_count": 10,
     "metadata": {},
     "output_type": "execute_result"
    }
   ],
   "source": [
    "# the magnitude and component RMSEs are related by a factor of √3 \n",
    "# due to Pythagoras' theorem\n",
    "np.isclose(mag_rmse / (3**0.5), comp_rmse)"
   ]
  },
  {
   "attachments": {},
   "cell_type": "markdown",
   "metadata": {},
   "source": [
    "## On Rotational Invariance\n",
    "\n",
    "An important thing to note is that, due to pythagoras' theorem, the L2 norm of a vector is invariant to rotations: \n",
    "\n",
    "$$\n",
    "||\\mathbf{v}||_2 \\equiv ||\\mathcal{R}(\\mathbf{v})||_2 \\quad \\forall \\quad \\mathbf{v} \\in \\mathbb{R}^3, \\mathcal{R} \\in \\text{SO}(3)\n",
    "$$\n",
    "\n",
    "and, hence, all metrics applied to the L2 norm are also rotationally invariant.\n",
    "\n",
    "This is not the case for the Manhattan distance (L1) norm however! For an N-D vector of euclidean length (L2) $1$, the L1 norm is bounded by $1$ (the vector points along a single axis). However, for the same vector, the L1 norm is bounded by $\\sqrt{N}$ (the vector points along the diagonal of an $N$-dimensional hypercube). This means that the component-wise MAE is not rotationally invariant.\n",
    "\n",
    "We show this result for the 2d case in `demo-rotation-invariance.ipynb`."
   ]
  },
  {
   "cell_type": "code",
   "execution_count": 12,
   "metadata": {},
   "outputs": [
    {
     "data": {
      "text/plain": [
       "(0.8324940950668309, 0.834605631452439)"
      ]
     },
     "execution_count": 12,
     "metadata": {},
     "output_type": "execute_result"
    }
   ],
   "source": [
    "def randomly_rotate(thing):\n",
    "    \"\"\"randomly rotate a 3D vector or matrix\"\"\"\n",
    "\n",
    "    from scipy.stats import special_ortho_group\n",
    "    \n",
    "    rotation_matrix = special_ortho_group.rvs(3)\n",
    "    return np.dot(rotation_matrix, thing.T).T\n",
    "\n",
    "\n",
    "rotated_comp_maes = []\n",
    "\n",
    "for _ in range(100):\n",
    "    rotated_force_residuals = randomly_rotate(force_residuals)\n",
    "    rotated_comp_mae = mae(rotated_force_residuals.reshape(-1))\n",
    "    rotated_comp_maes.append(rotated_comp_mae)\n",
    "\n",
    "np.min(rotated_comp_maes), np.max(rotated_comp_maes)"
   ]
  },
  {
   "cell_type": "code",
   "execution_count": 16,
   "metadata": {},
   "outputs": [
    {
     "data": {
      "text/plain": [
       "'0.25%'"
      ]
     },
     "execution_count": 16,
     "metadata": {},
     "output_type": "execute_result"
    }
   ],
   "source": [
    "percentage_variation = (\n",
    "    (np.max(rotated_comp_maes) - np.min(rotated_comp_maes)) \n",
    "    / np.mean(rotated_comp_maes)\n",
    ")\n",
    "\n",
    "# this is a relatively small variation relative to the size of the error\n",
    "# but could be orders of magnitude larger given a different dataset\n",
    "f\"{percentage_variation:.2%}\""
   ]
  },
  {
   "attachments": {},
   "cell_type": "markdown",
   "metadata": {},
   "source": [
    "In this dataset, we deal with structures with no inherent orientation relative to the cartesian axes. Coupled with the large number of atomic environments that we average over, this leads to a small variation in the MAEs as a function of 3d rotation. We stress, however, that this will not always be the case. For instance, if the dataset is for crystalline structures with the majority of the bonds, and therefore the forces, oriented with the Cartesian axes. In this case, where errors may lie predominantly along lattice vectors, the component-wise MAE will have a near maximal variation ($\\sqrt{3}$) as a function of rotation!\n"
   ]
  },
  {
   "attachments": {},
   "cell_type": "markdown",
   "metadata": {},
   "source": [
    "## Final Remarks\n",
    "\n",
    "We note a common pitfall: under the hood, without explicitly incorporating the L2 norms of errors, `numpy` performs componentwise MAE/RMSE operations:"
   ]
  },
  {
   "cell_type": "code",
   "execution_count": 13,
   "metadata": {},
   "outputs": [
    {
     "data": {
      "text/plain": [
       "((85011,), 0.8329790830584277)"
      ]
     },
     "execution_count": 13,
     "metadata": {},
     "output_type": "execute_result"
    }
   ],
   "source": [
    "force_residuals_components.shape, mae(force_residuals_components)"
   ]
  },
  {
   "cell_type": "code",
   "execution_count": 14,
   "metadata": {},
   "outputs": [
    {
     "data": {
      "text/plain": [
       "((28337, 3), 0.8329790830584277)"
      ]
     },
     "execution_count": 14,
     "metadata": {},
     "output_type": "execute_result"
    }
   ],
   "source": [
    "# note the MAE is identical above and below, despite the different shapes\n",
    "# i.e. even without explicit reshaping, the MAE is computed over the flattened arrays\n",
    "force_residuals.shape, mae(force_residuals)"
   ]
  }
 ],
 "metadata": {
  "kernelspec": {
   "display_name": "load-atoms",
   "language": "python",
   "name": "python3"
  },
  "language_info": {
   "codemirror_mode": {
    "name": "ipython",
    "version": 3
   },
   "file_extension": ".py",
   "mimetype": "text/x-python",
   "name": "python",
   "nbconvert_exporter": "python",
   "pygments_lexer": "ipython3",
   "version": "3.8.15"
  },
  "orig_nbformat": 4,
  "vscode": {
   "interpreter": {
    "hash": "0a9537a851476336c227c6cfce3f76abcef14bf472842da009f8502382cfa5a6"
   }
  }
 },
 "nbformat": 4,
 "nbformat_minor": 2
}
