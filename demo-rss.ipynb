{
 "cells": [
  {
   "cell_type": "markdown",
   "metadata": {},
   "source": [
    "# Plotting RSS minima distributions"
   ]
  },
  {
   "cell_type": "code",
   "execution_count": 1,
   "metadata": {},
   "outputs": [],
   "source": [
    "from ase.io import read, write\n",
    "from ase.build import bulk\n",
    "from quippy.potential import Potential\n",
    "import os\n",
    "from os.path import join\n",
    "import numpy as np\n",
    "from scipy.stats import gaussian_kde\n",
    "import matplotlib.pyplot as plt\n",
    "import seaborn as sns\n",
    "\n",
    "from share.utilities import despine, density_estimation, optimise_structure, RSS\n",
    "\n",
    "plt.style.use('./share/plot.mplstyle')"
   ]
  },
  {
   "cell_type": "markdown",
   "metadata": {},
   "source": [
    "# Generate some random intial structures using `buildcell`\n",
    "\n",
    "note that you must have [buildcell](https://airss-docs.github.io/getting-started/installation/) compiled and on your path for this to work,  \n",
    "as well as CASTEP itself to use ase's `read_cell` functionality\n",
    "\n",
    "the plotting example below uses precomputed data, so this step is optional"
   ]
  },
  {
   "cell_type": "code",
   "execution_count": 2,
   "metadata": {},
   "outputs": [
    {
     "name": "stdout",
     "output_type": "stream",
     "text": [
      "Building cells...\n",
      "Percent: [##############################] 100.00% Done...\n",
      "Walltime:  0:00:27.040602\n",
      "Reading cells..."
     ]
    }
   ],
   "source": [
    "N = 100\n",
    "volume = 21\n",
    "nprocs = 1\n",
    "buildcell_options = ['NFORM={1,2,3,4,5,6,7,8,9,10,11,12}', \n",
    "                     f'VARVOL={volume}',\n",
    "                     'MINSEP=1.5', \n",
    "                     'SYMMOPS=1-4', \n",
    "                     'SPECIES=Si%NUM=2', \n",
    "                     'VARVOL_RANGE=0.7 1.3', \n",
    "                     'COMPACT'\n",
    "                     'SLACK=0.25', \n",
    "                     'OVERLAP=0.1']\n",
    "\n",
    "tag='Si'\n",
    "rss = RSS('structures/demo-rss-struc')\n",
    "rss.buildcells(N, buildcell_options, tag=tag)"
   ]
  },
  {
   "cell_type": "markdown",
   "metadata": {},
   "source": [
    "# Optimise structures\n",
    "\n",
    "After generating initial cells, the next stage of RSS would be to relax them into their local minima.   \n",
    "\n",
    "We'll do it just for one structure here, because it would take a while to 100 in serial!"
   ]
  },
  {
   "cell_type": "code",
   "execution_count": 3,
   "metadata": {},
   "outputs": [],
   "source": [
    "from share.utilities import optimise_structure"
   ]
  },
  {
   "cell_type": "code",
   "execution_count": 4,
   "metadata": {},
   "outputs": [
    {
     "name": "stdout",
     "output_type": "stream",
     "text": [
      "WARNING: Potential_initialise using default init_args \"Potential xml_label=GAP_2017_6_17_60_4_3_56_165\"\n"
     ]
    }
   ],
   "source": [
    "# assumes you've already downloaded this by running `demo-similarity.ipynb`\n",
    "\n",
    "GAP18 = Potential(param_filename='potentials/gp_iter6_sparse9k.xml')"
   ]
  },
  {
   "cell_type": "code",
   "execution_count": 5,
   "metadata": {},
   "outputs": [
    {
     "name": "stdout",
     "output_type": "stream",
     "text": [
      "WARNING: Potential_calc: cutoff of Atoms object (-1.0000000000000000) < Potential cutoff (5.0000000000000000) - increasing it now\n",
      "                Step[ FC]     Time          Energy          fmax\n",
      "*Force-consistent energies used in optimization.\n",
      "BFGSLineSearch:    0[  0] 19:35:53     -643.074184*      12.9773\n",
      "BFGSLineSearch:    1[  1] 19:35:53     -645.623631*       4.3225\n",
      "BFGSLineSearch:    2[  2] 19:35:53     -645.835087*       1.6737\n",
      "BFGSLineSearch:    3[  3] 19:35:53     -645.872534*       0.0559\n",
      "BFGSLineSearch:    4[  4] 19:35:53     -645.872567*       0.0102\n",
      "BFGSLineSearch:    5[  5] 19:35:53     -645.872568*       0.0000\n"
     ]
    }
   ],
   "source": [
    "relaxed_structure = optimise_structure(rss.init_atoms['Si'][0], potential=GAP18, fmax=0.001)"
   ]
  },
  {
   "cell_type": "markdown",
   "metadata": {},
   "source": [
    "# Plot the distribution of minima\n",
    "\n",
    "we will use the data that went into Fig. 8a of the paper"
   ]
  },
  {
   "cell_type": "code",
   "execution_count": null,
   "metadata": {},
   "outputs": [],
   "source": [
    "!tar -xzf structures/GAP-18_RSS.tar.gz"
   ]
  },
  {
   "cell_type": "code",
   "execution_count": 6,
   "metadata": {},
   "outputs": [],
   "source": [
    "rss_structures = read('structures/GAP-18_RSS.xyz', index=':')"
   ]
  },
  {
   "cell_type": "code",
   "execution_count": 7,
   "metadata": {},
   "outputs": [
    {
     "name": "stdout",
     "output_type": "stream",
     "text": [
      "WARNING: Potential_initialise using default init_args \"Potential xml_label=GAP_2017_6_17_60_4_3_56_165\"\n"
     ]
    }
   ],
   "source": [
    "gap18 = Potential(param_filename='potentials/gp_iter6_sparse9k.xml')"
   ]
  },
  {
   "cell_type": "markdown",
   "metadata": {},
   "source": [
    "use a diamond reference structure for the energy scale"
   ]
  },
  {
   "cell_type": "code",
   "execution_count": 8,
   "metadata": {},
   "outputs": [
    {
     "name": "stdout",
     "output_type": "stream",
     "text": [
      "WARNING: Potential_calc: cutoff of Atoms object (-1.0000000000000000) < Potential cutoff (5.0000000000000000) - increasing it now\n",
      "                Step[ FC]     Time          Energy          fmax\n",
      "*Force-consistent energies used in optimization.\n",
      "BFGSLineSearch:    0[  0] 15:36:57    -1305.407858*       1.5584\n",
      "BFGSLineSearch:    1[  2] 15:36:58    -1305.419302*       0.5606\n",
      "BFGSLineSearch:    2[  3] 15:36:58    -1305.421037*       0.0114\n",
      "BFGSLineSearch:    3[  4] 15:36:58    -1305.421038*       0.0001\n"
     ]
    }
   ],
   "source": [
    "dia = bulk('Si', cubic=True)\n",
    "dia_opt = optimise_structure(dia, gap18, fmax=1e-4)\n",
    "dia_opt.calc = gap18\n",
    "\n",
    "dia_e = dia_opt.get_potential_energy()/len(dia_opt)"
   ]
  },
  {
   "cell_type": "code",
   "execution_count": 42,
   "metadata": {},
   "outputs": [
    {
     "data": {
      "image/png": "[encoded data removed]",
      "text/plain": [
       "<Figure size 600x600 with 4 Axes>"
      ]
     },
     "metadata": {},
     "output_type": "display_data"
    }
   ],
   "source": [
    "fig, axs = plt.subplots(2,2, figsize=(6, 6), dpi=100,\n",
    "                        gridspec_kw={'width_ratios':[1,0.45], 'wspace':0.01,\n",
    "                                     'height_ratios':[0.45,1.0], 'hspace':0.01},\n",
    "                                      sharey='row', sharex='col')\n",
    "axs = axs.flatten()\n",
    "despine(axs[0])\n",
    "despine(axs[3])\n",
    "\n",
    "ls = np.array([len(i) for i in rss_structures])\n",
    "# energies\n",
    "y = np.array([i.info['energy'] for i in rss_structures])/ls - dia_e\n",
    "# volumes\n",
    "x = np.array([i.get_volume() for i in rss_structures])/ls\n",
    "\n",
    "# Calculate the point density for the countour plot\n",
    "xmin = x.min()-2; xmax = x.max()+2\n",
    "ymin = y.min()-0.1; ymax = y.max()+0.2\n",
    "X, Y, Z = density_estimation(x, y, \n",
    "                            xmin, xmax, ymin, ymax, \n",
    "                            bw=0.1, point_density=200j)\n",
    "\n",
    "cmap_i = sns.light_palette('k', as_cmap=True)\n",
    "axs[2].contourf(X, Y, Z, \n",
    "            colors=[np.array(cmap_i(i/4))*0.95 for i in range(5)],\n",
    "            levels=(np.linspace(0.065, 0.7, 5)),\n",
    "            extend='max')\n",
    "\n",
    "# Calculate the kernel density estimate for the marginal plots\n",
    "kdey = gaussian_kde(y, bw_method=0.1)\n",
    "zy = kdey.evaluate((zes := np.linspace(-0.2,3.0, 300)))\n",
    "axs[3].plot(zy, zes, color='k', zorder=0.5)\n",
    "\n",
    "kdex = gaussian_kde(x, bw_method=0.1)\n",
    "zx = kdex.evaluate((zvs := np.linspace(3,42, 300)))\n",
    "axs[0].plot(zvs, zx, color='k', zorder=0.5)\n",
    "\n",
    "# Plotting limits and labels\n",
    "axs[2].set(ylim=(-0.1, 0.9), xlim=(14,24),\n",
    "                xlabel='Volume per atom $(\\mathrm{\\AA^{3}})$', \n",
    "                ylabel=r'$E - E_{\\mathrm{dia}}$ (eV at.$^{-1}$)')\n",
    "axs[3].set(xlim=(-0.1,6))\n",
    "axs[0].set(ylim=(-0.01,0.5))\n",
    "\n",
    "axs[1].axis('off')\n",
    "axs[0].tick_params(bottom = False, left=False)\n",
    "axs[3].tick_params(bottom = False, left=False)\n",
    "axs[0].set_yticklabels([])\n",
    "axs[3].set_xticklabels([])\n",
    "\n",
    "\n",
    "fig.savefig('images/Si_RSS_plot_fig8.pdf', bbox_inches='tight')"
   ]
  }
 ],
 "metadata": {
  "kernelspec": {
   "display_name": "Python 3 (ipykernel)",
   "language": "python",
   "name": "python3"
  },
  "language_info": {
   "codemirror_mode": {
    "name": "ipython",
    "version": 3
   },
   "file_extension": ".py",
   "mimetype": "text/x-python",
   "name": "python",
   "nbconvert_exporter": "python",
   "pygments_lexer": "ipython3",
   "version": "3.9.12"
  },
  "orig_nbformat": 4,
  "vscode": {
   "interpreter": {
    "hash": "8defb8c37c264dd73b33bddde773345d962d4f99b07c58ce5b4c6fe6b18737b2"
   }
  }
 },
 "nbformat": 4,
 "nbformat_minor": 2
}
