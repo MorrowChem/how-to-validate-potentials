{
 "cells": [
  {
   "cell_type": "markdown",
   "metadata": {},
   "source": [
    "# SOAP analysis of Si trajectory\n",
    "\n",
    "This notebook shows how to perform a SOAP analysis of a Si trajectory.\n",
    "\n",
    "The MD simulation involves the compression of a 10,000 atom structural model of low-density amorphous silicon (a-Si) from 0-20 GPa,  \n",
    "similar to that described in [J. Chem. Phys. __157__, 104105 (2022)](https://doi.org/10.1063/5.0099929).  \n",
    "\n",
    "Here, we use a smaller system size (10k vs. 100k) to reduce the computational cost of the analysis  \n",
    "so that it can be run on a laptop in a few minutes.\n",
    "\n",
    "We're going to compare the snapshots from the large-scale MD to some known crystal structures of Si   \n",
    "to understand the structural changes that occur during compression."
   ]
  },
  {
   "cell_type": "code",
   "execution_count": 4,
   "metadata": {
    "vscode": {
     "languageId": "python"
    }
   },
   "outputs": [],
   "source": [
    "# Note you need to be running the notebook from the root directory of the repository\n",
    "# # `os.chdir('path/to/repo')` will achieve this\n",
    "from ase.io import read, write\n",
    "import os\n",
    "import pandas as pd\n",
    "import numpy as np\n",
    "from share.utilities import read_lammps_log\n",
    "import matplotlib.pyplot as plt\n",
    "plt.style.use('./share/plot.mplstyle')"
   ]
  },
  {
   "cell_type": "markdown",
   "metadata": {},
   "source": [
    "unpack our example trajectory"
   ]
  },
  {
   "cell_type": "code",
   "execution_count": 176,
   "metadata": {
    "vscode": {
     "languageId": "python"
    }
   },
   "outputs": [
    {
     "name": "stdout",
     "output_type": "stream",
     "text": [
      "structures/Si_10katom_simulation.xyz\n"
     ]
    }
   ],
   "source": [
    "!tar -xzvf structures/Si_10katom_simulation.xyz.tar.gz"
   ]
  },
  {
   "cell_type": "code",
   "execution_count": 177,
   "metadata": {
    "vscode": {
     "languageId": "python"
    }
   },
   "outputs": [
    {
     "name": "stdout",
     "output_type": "stream",
     "text": [
      "Atoms(symbols='Si10000', pbc=True, cell=[59.0629, 59.0629, 59.0629], masses=...)\n"
     ]
    }
   ],
   "source": [
    "Si_traj = read('structures/Si_10katom_simulation.xyz', ':')\n",
    "print(Si_traj[0])"
   ]
  },
  {
   "cell_type": "markdown",
   "metadata": {},
   "source": [
    "This is the thermodynamic output from LAMMPS, which we'll use to plot the pressure and temperature\n",
    "\n",
    "Definitions:\n",
    "* Step      =       timestep (in fs)\n",
    "* CPU       =       CPU time\n",
    "* Temp      =       instantaneous temperature at timestep *step*\n",
    "* f_TempAve =       average temperature over the last 1000 timesteps\n",
    "* Press     =       instantaneous pressure\n",
    "* f_PressAve=       average pressure\n",
    "* f_PEAve_Atom=     average potential energy per atom\n",
    "* c_MSD[4]  =       mean square displacement of atoms"
   ]
  },
  {
   "cell_type": "code",
   "execution_count": 178,
   "metadata": {
    "vscode": {
     "languageId": "python"
    }
   },
   "outputs": [
    {
     "data": {
      "text/html": [
       "<div>\n",
       "<style scoped>\n",
       "    .dataframe tbody tr th:only-of-type {\n",
       "        vertical-align: middle;\n",
       "    }\n",
       "\n",
       "    .dataframe tbody tr th {\n",
       "        vertical-align: top;\n",
       "    }\n",
       "\n",
       "    .dataframe thead th {\n",
       "        text-align: right;\n",
       "    }\n",
       "</style>\n",
       "<table border=\"1\" class=\"dataframe\">\n",
       "  <thead>\n",
       "    <tr style=\"text-align: right;\">\n",
       "      <th></th>\n",
       "      <th>Step</th>\n",
       "      <th>CPU</th>\n",
       "      <th>Temp</th>\n",
       "      <th>f_TempAve</th>\n",
       "      <th>Press</th>\n",
       "      <th>f_PressAve</th>\n",
       "      <th>f_PEAve_Atom</th>\n",
       "      <th>Volume</th>\n",
       "      <th>f_vAve</th>\n",
       "      <th>c_MSD[4]</th>\n",
       "    </tr>\n",
       "  </thead>\n",
       "  <tbody>\n",
       "    <tr>\n",
       "      <th>0</th>\n",
       "      <td>0.0</td>\n",
       "      <td>0.000000</td>\n",
       "      <td>500.00000</td>\n",
       "      <td>0.00000</td>\n",
       "      <td>200.47885</td>\n",
       "      <td>0.000000</td>\n",
       "      <td>0.00000</td>\n",
       "      <td>206036.57</td>\n",
       "      <td>0.00</td>\n",
       "      <td>0.000000</td>\n",
       "    </tr>\n",
       "    <tr>\n",
       "      <th>2</th>\n",
       "      <td>1000.0</td>\n",
       "      <td>66.406337</td>\n",
       "      <td>499.06923</td>\n",
       "      <td>496.43517</td>\n",
       "      <td>469.56218</td>\n",
       "      <td>-0.746819</td>\n",
       "      <td>-162.92661</td>\n",
       "      <td>205947.39</td>\n",
       "      <td>206035.67</td>\n",
       "      <td>0.099112</td>\n",
       "    </tr>\n",
       "    <tr>\n",
       "      <th>3</th>\n",
       "      <td>2000.0</td>\n",
       "      <td>132.756830</td>\n",
       "      <td>504.12737</td>\n",
       "      <td>500.23940</td>\n",
       "      <td>367.79051</td>\n",
       "      <td>-41.270840</td>\n",
       "      <td>-162.92650</td>\n",
       "      <td>205852.77</td>\n",
       "      <td>206019.93</td>\n",
       "      <td>0.104916</td>\n",
       "    </tr>\n",
       "    <tr>\n",
       "      <th>4</th>\n",
       "      <td>3000.0</td>\n",
       "      <td>199.107770</td>\n",
       "      <td>498.82079</td>\n",
       "      <td>500.74544</td>\n",
       "      <td>108.73607</td>\n",
       "      <td>-61.930008</td>\n",
       "      <td>-162.92650</td>\n",
       "      <td>206026.93</td>\n",
       "      <td>206014.29</td>\n",
       "      <td>0.102298</td>\n",
       "    </tr>\n",
       "    <tr>\n",
       "      <th>5</th>\n",
       "      <td>4000.0</td>\n",
       "      <td>265.756330</td>\n",
       "      <td>499.03487</td>\n",
       "      <td>499.13229</td>\n",
       "      <td>-185.78896</td>\n",
       "      <td>-85.978728</td>\n",
       "      <td>-162.92618</td>\n",
       "      <td>206067.84</td>\n",
       "      <td>206029.74</td>\n",
       "      <td>0.103973</td>\n",
       "    </tr>\n",
       "  </tbody>\n",
       "</table>\n",
       "</div>"
      ],
      "text/plain": [
       "     Step         CPU       Temp  f_TempAve      Press  f_PressAve  \\\n",
       "0     0.0    0.000000  500.00000    0.00000  200.47885    0.000000   \n",
       "2  1000.0   66.406337  499.06923  496.43517  469.56218   -0.746819   \n",
       "3  2000.0  132.756830  504.12737  500.23940  367.79051  -41.270840   \n",
       "4  3000.0  199.107770  498.82079  500.74544  108.73607  -61.930008   \n",
       "5  4000.0  265.756330  499.03487  499.13229 -185.78896  -85.978728   \n",
       "\n",
       "   f_PEAve_Atom     Volume     f_vAve  c_MSD[4]  \n",
       "0       0.00000  206036.57       0.00  0.000000  \n",
       "2    -162.92661  205947.39  206035.67  0.099112  \n",
       "3    -162.92650  205852.77  206019.93  0.104916  \n",
       "4    -162.92650  206026.93  206014.29  0.102298  \n",
       "5    -162.92618  206067.84  206029.74  0.103973  "
      ]
     },
     "execution_count": 178,
     "metadata": {},
     "output_type": "execute_result"
    }
   ],
   "source": [
    "thermo = read_lammps_log('structures/log_npt_Si_mtp.dat')\n",
    "thermo.head()"
   ]
  },
  {
   "cell_type": "markdown",
   "metadata": {},
   "source": [
    "# Create reference crystal structures"
   ]
  },
  {
   "cell_type": "code",
   "execution_count": 179,
   "metadata": {
    "vscode": {
     "languageId": "python"
    }
   },
   "outputs": [],
   "source": [
    "from ase.lattice.hexagonal import Hexagonal\n",
    "from ase.build import bulk\n",
    "from ase import Atoms"
   ]
  },
  {
   "cell_type": "code",
   "execution_count": 181,
   "metadata": {
    "vscode": {
     "languageId": "python"
    }
   },
   "outputs": [
    {
     "name": "stdout",
     "output_type": "stream",
     "text": [
      "Diamond structure Atoms object:  Atoms(symbols='Si2', pbc=True, cell=[[0.0, 2.715, 2.715], [2.715, 0.0, 2.715], [2.715, 2.715, 0.0]]) \n",
      "\n",
      "Simple hexagonal Atoms object  Atoms(symbols='Si', pbc=True, cell=[[1.7, 0.0, 0.0], [-0.8499999999999995, 1.4722431864335457, 0.0], [0.0, 0.0, 2.3]])\n"
     ]
    }
   ],
   "source": [
    "diamond = bulk('Si', 'diamond', a=5.43)\n",
    "simple_hexagonal = Atoms(Hexagonal(symbol='Si', latticeconstant={'a': 1.7, 'c':2.3}))\n",
    "\n",
    "print('Diamond structure Atoms object: ', diamond, '\\n')\n",
    "\n",
    "print('Simple hexagonal Atoms object ', simple_hexagonal)"
   ]
  },
  {
   "cell_type": "code",
   "execution_count": 182,
   "metadata": {
    "vscode": {
     "languageId": "python"
    }
   },
   "outputs": [],
   "source": [
    "# In case you want to visualise them with Ovito https://www.ovito.org/manual/installation.html\n",
    "write('structures/Si_diamond.xyz', diamond)\n",
    "write('structures/Si_simple_hexagonal.xyz', simple_hexagonal)"
   ]
  },
  {
   "cell_type": "markdown",
   "metadata": {},
   "source": [
    "<font size= \"6\">Reference structures<font size= \"4\">  \n",
    "illustrated\n",
    "\n",
    "<img src=\"images/dia_crystal.png\" width=\"300\" height=\"300\"/><img src=\"images/sh_crystal.png\" width=\"300\" height=\"300\"/>   \n",
    "\n",
    "Visualisation using [Ovito](https://www.ovito.org/)"
   ]
  },
  {
   "cell_type": "markdown",
   "metadata": {},
   "source": [
    "# Optimise geometries of reference structure\n",
    "\n",
    "We do this for a range of pressures, so that the conditions for the reference crystal  \n",
    "are comparable to those in the MD simulation.\n",
    "\n",
    "Here we relax the diamond reference structure with the Silicon GAP potential from [Phys. Rev. X __8__, 041048](https://doi.org/10.1103/PhysRevX.8.041048)\n",
    "\n",
    "Note that we don't relax simple hexagonal Si with this potential at low pressures -   \n",
    "the GAP model has not been trained in this region, and doesn't bind the structure strongly enough!"
   ]
  },
  {
   "cell_type": "code",
   "execution_count": 5,
   "metadata": {
    "vscode": {
     "languageId": "python"
    }
   },
   "outputs": [],
   "source": [
    "from share.utilities import optimise_structure\n",
    "from quippy.potential import Potential"
   ]
  },
  {
   "cell_type": "markdown",
   "metadata": {},
   "source": [
    "Download GAP-18 potential"
   ]
  },
  {
   "cell_type": "code",
   "execution_count": 15,
   "metadata": {
    "vscode": {
     "languageId": "python"
    }
   },
   "outputs": [],
   "source": [
    "%%capture download_output\n",
    "\n",
    "os.makedirs('potentials', exist_ok=True)\n",
    "!wget https://github.com/libAtoms/silicon-testing-framework/raw/master/models/GAP/gp_iter6_sparse9k.xml -P potentials/\n",
    "!wget https://github.com/libAtoms/silicon-testing-framework/raw/master/models/GAP/gp_iter6_sparse9k.xml.sparseX.GAP_2017_6_17_60_4_3_56_1651.bz2 -P potentials/\n",
    "!bunzip2 potentials/gp_iter6_sparse9k.xml.sparseX.GAP_2017_6_17_60_4_3_56_1651.bz2"
   ]
  },
  {
   "cell_type": "code",
   "execution_count": 16,
   "metadata": {
    "vscode": {
     "languageId": "python"
    }
   },
   "outputs": [
    {
     "name": "stdout",
     "output_type": "stream",
     "text": [
      "WARNING: Potential_initialise using default init_args \"Potential xml_label=GAP_2017_6_17_60_4_3_56_165\"\n"
     ]
    }
   ],
   "source": [
    "GAP18 = Potential(param_filename='potentials/gp_iter6_sparse9k.xml')"
   ]
  },
  {
   "cell_type": "markdown",
   "metadata": {},
   "source": [
    "optimise diamond structure at a sample of pressures"
   ]
  },
  {
   "cell_type": "code",
   "execution_count": 185,
   "metadata": {
    "vscode": {
     "languageId": "python"
    }
   },
   "outputs": [],
   "source": [
    "%%capture geometry_optimisation_output \n",
    "\n",
    "pressures = thermo['f_PressAve'].values / (1e4*160.2177) # convert kbar to eV/A^3\n",
    "\n",
    "# pad pressures to ensure we only interpolate, not extrapolate, when fitting\n",
    "optimisation_pressures = np.concatenate([[-1e-4], pressures[::10], [pressures[-1] + 1e-4]])\n",
    "\n",
    "# optimise diamond\n",
    "optimised_diamonds = [optimise_structure(diamond.copy(), GAP18, P=p) for p in optimisation_pressures]\n"
   ]
  },
  {
   "cell_type": "code",
   "execution_count": 68,
   "metadata": {
    "vscode": {
     "languageId": "python"
    }
   },
   "outputs": [
    {
     "data": {
      "text/plain": [
       "<IPython.utils.capture.CapturedIO at 0x7fa3f0588040>"
      ]
     },
     "execution_count": 68,
     "metadata": {},
     "output_type": "execute_result"
    }
   ],
   "source": [
    "# run this to see the log output from the geometry optimisations (quite long, so omitted here!)\n",
    "# geometry_optimisation_output.show()"
   ]
  },
  {
   "cell_type": "markdown",
   "metadata": {},
   "source": [
    "## Fitting of the lattice parameters\n",
    "\n",
    "by fitting the lattice vectors instead of optimising at each pressure, we can get away with only a few optimisations  \n",
    "(particularly valuable if you're using DFT to get the equilibrium lattice parameters for the reference crystals)"
   ]
  },
  {
   "cell_type": "code",
   "execution_count": 186,
   "metadata": {
    "vscode": {
     "languageId": "python"
    }
   },
   "outputs": [],
   "source": [
    "from scipy.interpolate import interp1d"
   ]
  },
  {
   "cell_type": "markdown",
   "metadata": {},
   "source": [
    "simple cubic spline interpolation of the lattice"
   ]
  },
  {
   "cell_type": "code",
   "execution_count": 187,
   "metadata": {
    "vscode": {
     "languageId": "python"
    }
   },
   "outputs": [],
   "source": [
    "lattices = np.array([i.cell.array for i in optimised_diamonds]).T\n",
    "lattice_fit = interp1d(optimisation_pressures, lattices, kind='cubic')"
   ]
  },
  {
   "cell_type": "markdown",
   "metadata": {},
   "source": [
    "plot the lattice parameter as a function of pressure to check the quality of the interpolation"
   ]
  },
  {
   "cell_type": "code",
   "execution_count": 188,
   "metadata": {
    "vscode": {
     "languageId": "python"
    }
   },
   "outputs": [
    {
     "data": {
      "text/plain": [
       "[Text(0.5, 0, 'Pressure (GPa)'),\n",
       " Text(0, 0.5, 'Lattice constant ($\\\\mathrm{\\\\AA}$)')]"
      ]
     },
     "execution_count": 188,
     "metadata": {},
     "output_type": "execute_result"
    },
    {
     "data": {
      "image/png": "[encoded data removed]",
      "text/plain": [
       "<Figure size 640x480 with 1 Axes>"
      ]
     },
     "metadata": {},
     "output_type": "display_data"
    }
   ],
   "source": [
    "fig, axs = plt.subplots()\n",
    "\n",
    "lattice_predictions = lattice_fit(pressures)\n",
    "\n",
    "axs.scatter(optimisation_pressures[1:-1]*160.2177, [at.cell[0,1]*2 for at in optimised_diamonds[1:-1]], color='tab:blue', label='Optimised lattice constant')\n",
    "axs.plot(pressures*160.2177, lattice_predictions[0,1]*2, color='tab:red', label='Interpolated lattice constant', zorder=0.5)\n",
    "\n",
    "axs.set(xlabel='Pressure (GPa)', ylabel='Lattice constant ($\\mathrm{\\AA}$)')"
   ]
  },
  {
   "cell_type": "markdown",
   "metadata": {},
   "source": [
    "# Set up SOAP descriptor"
   ]
  },
  {
   "cell_type": "code",
   "execution_count": 189,
   "metadata": {
    "vscode": {
     "languageId": "python"
    }
   },
   "outputs": [],
   "source": [
    "from quippy.descriptors import Descriptor"
   ]
  },
  {
   "cell_type": "code",
   "execution_count": 190,
   "metadata": {
    "vscode": {
     "languageId": "python"
    }
   },
   "outputs": [],
   "source": [
    "soap_descriptor_str = ('soap l_max=3 n_max=6 ' # basis function size\n",
    "                       'atom_sigma=0.5 cutoff=5.0 ' # smoothness and cutoff (Angstrom) \n",
    "                       'average=T') # average descriptor over whole cell, or calculate one descriptor for each atom\n",
    "                       \n",
    "soap_cell_average = Descriptor(soap_descriptor_str)\n",
    "soap_atomistic = Descriptor(soap_descriptor_str.replace('average=T', 'average=F'))"
   ]
  },
  {
   "cell_type": "markdown",
   "metadata": {},
   "source": [
    "# Create SOAP vectors for each structure"
   ]
  },
  {
   "cell_type": "code",
   "execution_count": 191,
   "metadata": {
    "vscode": {
     "languageId": "python"
    }
   },
   "outputs": [],
   "source": [
    "# calculate every 5th structure in the MD trajectory\n",
    "# to speed things up (this will take up to 5 mins)\n",
    "average_descriptor = soap_cell_average.calc_descriptor(Si_traj[::5])\n",
    "atomistic_descriptor = soap_atomistic.calc_descriptor(Si_traj[::5])\n",
    "\n",
    "# get rid of unnecessary dimensions in arrays produced by calc_descriptor()\n",
    "average_descriptor = np.array(average_descriptor).squeeze() \n",
    "atomistic_descriptor = np.array(atomistic_descriptor).squeeze()"
   ]
  },
  {
   "cell_type": "code",
   "execution_count": 194,
   "metadata": {
    "vscode": {
     "languageId": "python"
    }
   },
   "outputs": [],
   "source": [
    "# calculate descriptors for the reference crystals\n",
    "\n",
    "diamond_descriptor = soap_cell_average.calc_descriptor(diamond).squeeze()\n",
    "simple_hexagonal_descriptor = soap_cell_average.calc_descriptor(simple_hexagonal).squeeze()"
   ]
  },
  {
   "cell_type": "code",
   "execution_count": 195,
   "metadata": {
    "vscode": {
     "languageId": "python"
    }
   },
   "outputs": [
    {
     "data": {
      "text/plain": [
       "(85,)"
      ]
     },
     "execution_count": 195,
     "metadata": {},
     "output_type": "execute_result"
    }
   ],
   "source": [
    "simple_hexagonal_descriptor.shape  # SOAP vector length"
   ]
  },
  {
   "cell_type": "markdown",
   "metadata": {},
   "source": [
    "calculate the SOAP vectors for a diamond structure at the measured pressure of each frame in the MD trajectory"
   ]
  },
  {
   "cell_type": "code",
   "execution_count": 196,
   "metadata": {
    "vscode": {
     "languageId": "python"
    }
   },
   "outputs": [],
   "source": [
    "fitted_diamonds = []\n",
    "\n",
    "for i, val in enumerate(pressures):\n",
    "    at = diamond.copy()\n",
    "    at.set_cell(lattice_fit(val), scale_atoms=True)\n",
    "    fitted_diamonds.append(at.copy())\n",
    "\n",
    "fitted_diamond_descriptors = np.array([soap_cell_average.calc_descriptor(at) for at in fitted_diamonds]).squeeze()"
   ]
  },
  {
   "cell_type": "markdown",
   "metadata": {},
   "source": [
    "# Calculate SOAP kernel matrix\n",
    "\n",
    "We use a SOAP kernel -- here defined as the dot product of the SOAP vectors raised to a power, *zeta*\n",
    "\n",
    "$$ K_{ij} = (k_i \\cdot k_{j})^{\\zeta} $$"
   ]
  },
  {
   "cell_type": "code",
   "execution_count": 197,
   "metadata": {
    "vscode": {
     "languageId": "python"
    }
   },
   "outputs": [],
   "source": [
    "zeta = 4  # exponent for the kernel\n",
    "\n",
    "# calculate dot products\n",
    "k_dia_av = np.dot(average_descriptor, diamond_descriptor)**zeta # cell-averaged kernel\n",
    "k_dia_atomistic = np.dot(atomistic_descriptor, diamond_descriptor)**zeta # atomistic kernel\n",
    "\n",
    "# pressure-adjusted, cell-averaged kernel\n",
    "k_dia_pressure_adjusted_av = [np.dot(i,j)**zeta for (i,j) in zip(average_descriptor, \n",
    "                                                                fitted_diamond_descriptors[::5])]\n"
   ]
  },
  {
   "cell_type": "code",
   "execution_count": 199,
   "metadata": {
    "vscode": {
     "languageId": "python"
    }
   },
   "outputs": [],
   "source": [
    "k_simple_hexagonal_av = np.dot(average_descriptor, simple_hexagonal_descriptor)**zeta\n",
    "k_simple_hexagonal_atomistic = np.dot(atomistic_descriptor, simple_hexagonal_descriptor)**zeta"
   ]
  },
  {
   "cell_type": "markdown",
   "metadata": {},
   "source": [
    "# Pressure vs. similarity plot\n",
    "\n",
    "Notice that the pressure-adjusted curve is slightly higher and flatter than the unadjusted curve.\n",
    "This is because the diamond crystal is shrinking under pressure, reducing the effect of uninteresting changes of density\n",
    "on the SOAP similarity, increasing the contrast for interesting structural changes. The effect is more pronounced for\n",
    "larger systems."
   ]
  },
  {
   "cell_type": "code",
   "execution_count": 200,
   "metadata": {
    "vscode": {
     "languageId": "python"
    }
   },
   "outputs": [
    {
     "data": {
      "text/plain": [
       "<matplotlib.legend.Legend at 0x7fa401ba97c0>"
      ]
     },
     "execution_count": 200,
     "metadata": {},
     "output_type": "execute_result"
    },
    {
     "data": {
      "image/png": "[encoded data removed]",
      "text/plain": [
       "<Figure size 640x480 with 1 Axes>"
      ]
     },
     "metadata": {},
     "output_type": "display_data"
    }
   ],
   "source": [
    "fig, axs = plt.subplots()\n",
    "\n",
    "\n",
    "pressure_Gpa = thermo['f_PressAve'][::5]/1e4 # convert from LAMMPS kbar to GPa\n",
    "\n",
    "# plot Diamond similarity\n",
    "axs.plot(pressure_Gpa, k_dia_av, label='diamond', c='purple')\n",
    "axs.plot(pressure_Gpa, k_dia_pressure_adjusted_av, label='diamond, pressure-adjusted', c='purple', ls='--')\n",
    "\n",
    "# plot simple hexagonal similarity\n",
    "axs.plot(pressure_Gpa, k_simple_hexagonal_av, label='simple hexagonal', c='gold')\n",
    "\n",
    "axs.set(xlabel='Pressure (GPa)', ylabel='SOAP Similarity')\n",
    "axs.legend(loc='upper left', bbox_to_anchor=(1, 1.05), frameon=False)"
   ]
  },
  {
   "cell_type": "markdown",
   "metadata": {},
   "source": [
    "# Label each atom with similarity\n",
    "to reference structures for visualisation in Ovito"
   ]
  },
  {
   "cell_type": "code",
   "execution_count": 201,
   "metadata": {
    "vscode": {
     "languageId": "python"
    }
   },
   "outputs": [
    {
     "data": {
      "text/plain": [
       "(51, 10000)"
      ]
     },
     "execution_count": 201,
     "metadata": {},
     "output_type": "execute_result"
    }
   ],
   "source": [
    "# one kernel value for each atom in each frame of the trajectory\n",
    "k_dia_atomistic.shape"
   ]
  },
  {
   "cell_type": "code",
   "execution_count": 206,
   "metadata": {
    "vscode": {
     "languageId": "python"
    }
   },
   "outputs": [
    {
     "data": {
      "text/plain": [
       "51"
      ]
     },
     "execution_count": 206,
     "metadata": {},
     "output_type": "execute_result"
    }
   ],
   "source": [
    "len(Si_traj[::5])"
   ]
  },
  {
   "cell_type": "code",
   "execution_count": 215,
   "metadata": {
    "vscode": {
     "languageId": "python"
    }
   },
   "outputs": [],
   "source": [
    "# save our SOAP kernel data to each frame in the trajectory\n",
    "for ct, i in enumerate(range(0,len(Si_traj),5)):\n",
    "    Si_traj[i].arrays['k_dia'] = k_dia_atomistic[ct, :]\n",
    "    Si_traj[i].arrays['k_simple_hexagonal'] = k_simple_hexagonal_atomistic[ct, :]"
   ]
  },
  {
   "cell_type": "code",
   "execution_count": 216,
   "metadata": {
    "vscode": {
     "languageId": "python"
    }
   },
   "outputs": [
    {
     "data": {
      "text/plain": [
       "array([0.93634892, 0.72644373, 0.85782427, 0.80764712, 0.94831613,\n",
       "       0.87921961, 0.81887103, 0.97075541, 0.79048884, 0.95895056])"
      ]
     },
     "execution_count": 216,
     "metadata": {},
     "output_type": "execute_result"
    }
   ],
   "source": [
    "Si_traj[0].arrays['k_dia'][:10] # this is the array of SOAP similarity values from 0-1"
   ]
  },
  {
   "cell_type": "code",
   "execution_count": 217,
   "metadata": {
    "vscode": {
     "languageId": "python"
    }
   },
   "outputs": [],
   "source": [
    "write('structures/Si_traj_SOAPlabelled.xyz', Si_traj[::5])"
   ]
  },
  {
   "cell_type": "markdown",
   "metadata": {},
   "source": [
    "<img src=\"images/dia.png\" width=\"300\" height=\"300\" /><img src=\"images/10GPa.png\" width=\"300\" height=\"300\" /><img src=\"images/sh.png\" width=\"300\" height=\"300\" />\n",
    "\n",
    "\n",
    "Visualisation using [Ovito](https://www.ovito.org/), with view angle set to illustrate the simple hexagonal *c*-axis.  \n",
    "Color-coding using the data in the `k_simple_hexagonal` array of the .xyz file.  \n",
    "  \n",
    "In Ovito, this amounts to using a *Color coding* modifier, with *Input property* set to `k_simple_hexagonal` and *Color gradient* set to `Viridis`.  "
   ]
  }
 ],
 "metadata": {
  "kernelspec": {
   "display_name": "Python 3 (ipykernel)",
   "language": "python",
   "name": "python3"
  },
  "orig_nbformat": 4,
  "vscode": {
   "interpreter": {
    "hash": "8defb8c37c264dd73b33bddde773345d962d4f99b07c58ce5b4c6fe6b18737b2"
   }
  }
 },
 "nbformat": 4,
 "nbformat_minor": 2
}
